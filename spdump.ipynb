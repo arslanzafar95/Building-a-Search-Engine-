{
 "cells": [
  {
   "cell_type": "markdown",
   "metadata": {},
   "source": [
    "#### This code is just a helper file to see the values for different pages as we are running the Spider-Page_Rank code to converge our page ranks "
   ]
  },
  {
   "cell_type": "code",
   "execution_count": 2,
   "metadata": {},
   "outputs": [
    {
     "name": "stdout",
     "output_type": "stream",
     "text": [
      "(6, 1.0, 4.3298493161936195e-14, 59, 'http://python-data.dr-chuck.net/known_by_Kahlia.html')\n",
      "(6, 1.0, 27.69715596686006, 2655, 'http://python-data.dr-chuck.net/known_by_Zena.html')\n",
      "(5, 1.0, 3.944037835485973e-14, 164, 'http://python-data.dr-chuck.net/known_by_Mercy.html')\n",
      "(4, 1.0, 2.5109635074692736e-14, 49, 'http://python-data.dr-chuck.net/known_by_Bjorn.html')\n",
      "(4, 1.0, 2.4232136298155973e-14, 485, 'http://python-data.dr-chuck.net/known_by_Jennie.html')\n",
      "(4, 1.0, 1.1698315209354046e-14, 674, 'http://python-data.dr-chuck.net/known_by_Viki.html')\n",
      "(4, 1.0, 1.598867098797672e-14, 813, 'http://python-data.dr-chuck.net/known_by_Jaye.html')\n",
      "(4, 1.0, 1.706783407866003e-14, 821, 'http://python-data.dr-chuck.net/known_by_Kari.html')\n",
      "(4, 1.0, 1.8331333029735508e-14, 950, 'http://python-data.dr-chuck.net/known_by_Peregrine.html')\n",
      "(4, 1.0, 2.684787631888675e-14, 977, 'http://python-data.dr-chuck.net/known_by_Eshaal.html')\n",
      "(4, 1.0, 9.635458981234604e-15, 1251, 'http://python-data.dr-chuck.net/known_by_Billie.html')\n",
      "(4, 1.0, 1.5435368170352224e-14, 1546, 'http://python-data.dr-chuck.net/known_by_Nikita.html')\n",
      "(4, 1.0, 1.60968673478812e-14, 1901, 'http://python-data.dr-chuck.net/known_by_Bret.html')\n",
      "(4, 1.0, 28.70999531491022, 3124, 'http://python-data.dr-chuck.net/known_by_Kyna.html')\n",
      "(3, 1.0, 2.1373749617850255e-14, 101, 'http://python-data.dr-chuck.net/known_by_Khalan.html')\n",
      "(3, 1.0, 1.2626572858559545e-14, 165, 'http://python-data.dr-chuck.net/known_by_Samy.html')\n",
      "(3, 1.0, 1.5097266560586666e-14, 301, 'http://python-data.dr-chuck.net/known_by_Tiree.html')\n",
      "(3, 1.0, 1.4133229730261196e-14, 313, 'http://python-data.dr-chuck.net/known_by_Harleen.html')\n",
      "(3, 1.0, 2.8235093349824336e-14, 396, 'http://python-data.dr-chuck.net/known_by_Tokunbo.html')\n",
      "(3, 1.0, 7.632382202619414e-15, 494, 'http://python-data.dr-chuck.net/known_by_Kyron.html')\n",
      "(3, 1.0, 3.268675540605804e-14, 728, 'http://python-data.dr-chuck.net/known_by_Colette.html')\n",
      "(3, 1.0, 1.9886447238169616e-14, 834, 'http://python-data.dr-chuck.net/known_by_Choco.html')\n",
      "(3, 1.0, 1.5599253128879166e-14, 949, 'http://python-data.dr-chuck.net/known_by_Fergie.html')\n",
      "(3, 1.0, 1.063086686774522e-14, 1084, 'http://python-data.dr-chuck.net/known_by_Ada.html')\n",
      "(3, 1.0, 1.6926154497924805e-14, 1111, 'http://python-data.dr-chuck.net/known_by_Madisin.html')\n",
      "(3, 1.0, 1.9900466450910215e-14, 2332, 'http://python-data.dr-chuck.net/known_by_Connell.html')\n",
      "(3, 1.0, 1.852386732888314e-14, 3095, 'http://python-data.dr-chuck.net/known_by_Olivier.html')\n",
      "(2, 1.0, 5.944273265791162e-15, 31, 'http://python-data.dr-chuck.net/known_by_Todd.html')\n",
      "(2, 1.0, 5.004124685635018e-15, 60, 'http://python-data.dr-chuck.net/known_by_Fruin.html')\n",
      "(2, 1.0, 1.009061422053184e-14, 62, 'http://python-data.dr-chuck.net/known_by_Daksh.html')\n",
      "(2, 1.0, 3.3843477466474613e-15, 105, 'http://python-data.dr-chuck.net/known_by_Tammara.html')\n",
      "(2, 1.0, 1.0595652215415619e-14, 194, 'http://python-data.dr-chuck.net/known_by_Tanay.html')\n",
      "(2, 1.0, 5.199900958623555e-15, 272, 'http://python-data.dr-chuck.net/known_by_Avani.html')\n",
      "(2, 1.0, 1.461352205895339e-14, 319, 'http://python-data.dr-chuck.net/known_by_Efan.html')\n",
      "(2, 1.0, 1.5168078297673828e-14, 379, 'http://python-data.dr-chuck.net/known_by_Sairah.html')\n",
      "(2, 1.0, 1.4395240873951143e-14, 510, 'http://python-data.dr-chuck.net/known_by_Murray.html')\n",
      "(2, 1.0, 1.7442681860944834e-14, 548, 'http://python-data.dr-chuck.net/known_by_Karla.html')\n",
      "(2, 1.0, 7.478465715651176e-15, 712, 'http://python-data.dr-chuck.net/known_by_Leya.html')\n",
      "(2, 1.0, 1.0074086978626763e-14, 802, 'http://python-data.dr-chuck.net/known_by_Alexi.html')\n",
      "(2, 1.0, 2.5159458014145737e-14, 1102, 'http://python-data.dr-chuck.net/known_by_Bill.html')\n",
      "(2, 1.0, 9.065248847601897e-15, 1106, 'http://python-data.dr-chuck.net/known_by_Lotte.html')\n",
      "(2, 1.0, 27.592848718660896, 1247, 'http://python-data.dr-chuck.net/known_by_Francesca.html')\n",
      "(2, 1.0, 2.283608027962345e-14, 1326, 'http://python-data.dr-chuck.net/known_by_Maira.html')\n",
      "(2, 1.0, 8.650482421989898e-15, 1369, 'http://python-data.dr-chuck.net/known_by_Abdihakim.html')\n",
      "(2, 1.0, 1.1794700552624183e-14, 1373, 'http://python-data.dr-chuck.net/known_by_Fia.html')\n",
      "(2, 1.0, 1.125166846238465e-14, 1384, 'http://python-data.dr-chuck.net/known_by_Sukhpreet.html')\n",
      "(2, 1.0, 5.651756653095764e-15, 1573, 'http://python-data.dr-chuck.net/known_by_Kayleigh.html')\n",
      "(2, 1.0, 1.6982621273977106e-14, 1613, 'http://python-data.dr-chuck.net/known_by_Kaine.html')\n",
      "(2, 1.0, 4.7364741481153735e-14, 1855, 'http://python-data.dr-chuck.net/known_by_Marwad.html')\n",
      "(2, 1.0, 1.1982307809728691e-14, 1877, 'http://python-data.dr-chuck.net/known_by_Aled.html')\n",
      "84 rows.\n"
     ]
    }
   ],
   "source": [
    "import sqlite3\n",
    "\n",
    "conn = sqlite3.connect('spider.sqlite')\n",
    "cur = conn.cursor()\n",
    "\n",
    "cur.execute('''SELECT COUNT(from_id) AS inbound, old_rank, new_rank, id, url \n",
    "     FROM Pages JOIN Links ON Pages.id = Links.to_id\n",
    "     WHERE html IS NOT NULL\n",
    "     GROUP BY id ORDER BY inbound DESC''')\n",
    "\n",
    "count = 0\n",
    "for row in cur :\n",
    "    if count < 50 : print(row)\n",
    "    count = count + 1\n",
    "print(count, 'rows.')\n",
    "cur.close()\n"
   ]
  },
  {
   "cell_type": "code",
   "execution_count": null,
   "metadata": {},
   "outputs": [],
   "source": []
  }
 ],
 "metadata": {
  "kernelspec": {
   "display_name": "Python 3",
   "language": "python",
   "name": "python3"
  },
  "language_info": {
   "codemirror_mode": {
    "name": "ipython",
    "version": 3
   },
   "file_extension": ".py",
   "mimetype": "text/x-python",
   "name": "python",
   "nbconvert_exporter": "python",
   "pygments_lexer": "ipython3",
   "version": "3.7.0"
  }
 },
 "nbformat": 4,
 "nbformat_minor": 2
}
